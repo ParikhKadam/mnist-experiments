{
  "nbformat": 4,
  "nbformat_minor": 0,
  "metadata": {
    "colab": {
      "name": "mnist experiment prototype.ipynb",
      "version": "0.3.2",
      "provenance": [],
      "collapsed_sections": []
    },
    "kernelspec": {
      "name": "python3",
      "display_name": "Python 3"
    },
    "accelerator": "GPU"
  },
  "cells": [
    {
      "cell_type": "code",
      "metadata": {
        "id": "qyVz9PPfiLNL",
        "colab_type": "code",
        "colab": {}
      },
      "source": [
        "import numpy as np\n",
        "np.random.seed(42)"
      ],
      "execution_count": 0,
      "outputs": []
    },
    {
      "cell_type": "code",
      "metadata": {
        "id": "-6CLbNxaqCar",
        "colab_type": "code",
        "outputId": "e496cbf7-0b6b-407c-f649-9a8c5f721af4",
        "colab": {
          "base_uri": "https://localhost:8080/",
          "height": 34
        }
      },
      "source": [
        "from keras.datasets import mnist\n",
        "from keras.utils.np_utils import to_categorical\n",
        "from keras.models import Model\n",
        "from keras.layers import Input, Concatenate, Softmax, Dense, Dropout, Flatten, Conv2D, MaxPool2D\n",
        "from keras.optimizers import RMSprop, Adam\n",
        "from matplotlib import pyplot as plt"
      ],
      "execution_count": 2,
      "outputs": [
        {
          "output_type": "stream",
          "text": [
            "Using TensorFlow backend.\n"
          ],
          "name": "stderr"
        }
      ]
    },
    {
      "cell_type": "code",
      "metadata": {
        "id": "v1iF_4_FuQQ8",
        "colab_type": "code",
        "colab": {}
      },
      "source": [
        "def preprocess_data(x, y):\n",
        "  x = x.reshape(x.shape[0], 56, 56, 1)\n",
        "  x = x.astype('float32')\n",
        "  x/=255\n",
        "  y = to_categorical(y, num_classes=10)\n",
        "  y = np.reshape(y, (y.shape[0],1,1,-1))\n",
        "  return x, y"
      ],
      "execution_count": 0,
      "outputs": []
    },
    {
      "cell_type": "code",
      "metadata": {
        "id": "nuGIWIkOsHGz",
        "colab_type": "code",
        "colab": {}
      },
      "source": [
        "def generate_new_dataset():\n",
        "  (x_train, y_train), (x_test, y_test) = mnist.load_data()\n",
        "  new_x_train = np.zeros((60000, 56,56))\n",
        "  new_x_test = np.zeros((10000, 56,56))\n",
        "  new_x_train[:, :28, :28] = x_train\n",
        "  new_x_test[:, 28:, 28:] = x_test\n",
        "  x_train, y_train = preprocess_data(new_x_train, y_train)\n",
        "  x_test, y_test = preprocess_data(new_x_test, y_test)\n",
        "  return (x_train, y_train), (x_test, y_test)"
      ],
      "execution_count": 0,
      "outputs": []
    },
    {
      "cell_type": "code",
      "metadata": {
        "id": "p8J3Gv2xu4KD",
        "colab_type": "code",
        "colab": {}
      },
      "source": [
        "(x_train, y_train), (x_test, y_test) = generate_new_dataset()"
      ],
      "execution_count": 0,
      "outputs": []
    },
    {
      "cell_type": "code",
      "metadata": {
        "id": "tAxYikFHuYAx",
        "colab_type": "code",
        "outputId": "5e6c080d-6050-4582-b842-12b5218b4790",
        "colab": {
          "base_uri": "https://localhost:8080/",
          "height": 286
        }
      },
      "source": [
        "plt.imshow(np.squeeze(x_train[0]), cmap=\"gray\")"
      ],
      "execution_count": 6,
      "outputs": [
        {
          "output_type": "execute_result",
          "data": {
            "text/plain": [
              "<matplotlib.image.AxesImage at 0x7f732ca8d940>"
            ]
          },
          "metadata": {
            "tags": []
          },
          "execution_count": 6
        },
        {
          "output_type": "display_data",
          "data": {
            "image/png": "[encoded data removed]",
            "text/plain": [
              "<Figure size 432x288 with 1 Axes>"
            ]
          },
          "metadata": {
            "tags": []
          }
        }
      ]
    },
    {
      "cell_type": "code",
      "metadata": {
        "colab_type": "code",
        "outputId": "acd74ca1-cf10-4ec7-b55d-694b2f179d64",
        "id": "YfMp3Fs0dBC4",
        "colab": {
          "base_uri": "https://localhost:8080/",
          "height": 286
        }
      },
      "source": [
        "plt.imshow(np.squeeze(x_test[0]), cmap=\"gray\")"
      ],
      "execution_count": 7,
      "outputs": [
        {
          "output_type": "execute_result",
          "data": {
            "text/plain": [
              "<matplotlib.image.AxesImage at 0x7f732a222908>"
            ]
          },
          "metadata": {
            "tags": []
          },
          "execution_count": 7
        },
        {
          "output_type": "display_data",
          "data": {
            "image/png": "[encoded data removed]",
            "text/plain": [
              "<Figure size 432x288 with 1 Axes>"
            ]
          },
          "metadata": {
            "tags": []
          }
        }
      ]
    },
    {
      "cell_type": "code",
      "metadata": {
        "id": "-qbBSLta1JvG",
        "colab_type": "code",
        "outputId": "e2f31e48-cff3-4e54-f6c0-965e850ae2a8",
        "colab": {
          "base_uri": "https://localhost:8080/",
          "height": 489
        }
      },
      "source": [
        "inputs = Input(shape=(56,56,1))\n",
        "\n",
        "c1 = Conv2D(filters = 32, kernel_size = (28,28), strides=28,\n",
        "                 activation ='relu')(inputs)\n",
        "m1 = MaxPool2D(pool_size=(2,2))(c1)\n",
        "\n",
        "c3 = Conv2D(filters = 10, kernel_size = (1,1), \n",
        "                 activation ='relu')(m1)\n",
        "output = Softmax(axis=-1)(c3)\n",
        "\n",
        "model = Model(inputs, output)\n",
        "model.summary()"
      ],
      "execution_count": 8,
      "outputs": [
        {
          "output_type": "stream",
          "text": [
            "WARNING: Logging before flag parsing goes to stderr.\n",
            "W0809 08:47:05.497365 140133898971008 deprecation_wrapper.py:119] From /usr/local/lib/python3.6/dist-packages/keras/backend/tensorflow_backend.py:74: The name tf.get_default_graph is deprecated. Please use tf.compat.v1.get_default_graph instead.\n",
            "\n",
            "W0809 08:47:05.524070 140133898971008 deprecation_wrapper.py:119] From /usr/local/lib/python3.6/dist-packages/keras/backend/tensorflow_backend.py:517: The name tf.placeholder is deprecated. Please use tf.compat.v1.placeholder instead.\n",
            "\n",
            "W0809 08:47:05.528546 140133898971008 deprecation_wrapper.py:119] From /usr/local/lib/python3.6/dist-packages/keras/backend/tensorflow_backend.py:4138: The name tf.random_uniform is deprecated. Please use tf.random.uniform instead.\n",
            "\n",
            "W0809 08:47:05.545388 140133898971008 deprecation_wrapper.py:119] From /usr/local/lib/python3.6/dist-packages/keras/backend/tensorflow_backend.py:3976: The name tf.nn.max_pool is deprecated. Please use tf.nn.max_pool2d instead.\n",
            "\n"
          ],
          "name": "stderr"
        },
        {
          "output_type": "stream",
          "text": [
            "_________________________________________________________________\n",
            "Layer (type)                 Output Shape              Param #   \n",
            "=================================================================\n",
            "input_1 (InputLayer)         (None, 56, 56, 1)         0         \n",
            "_________________________________________________________________\n",
            "conv2d_1 (Conv2D)            (None, 2, 2, 32)          25120     \n",
            "_________________________________________________________________\n",
            "max_pooling2d_1 (MaxPooling2 (None, 1, 1, 32)          0         \n",
            "_________________________________________________________________\n",
            "conv2d_2 (Conv2D)            (None, 1, 1, 10)          330       \n",
            "_________________________________________________________________\n",
            "softmax_1 (Softmax)          (None, 1, 1, 10)          0         \n",
            "=================================================================\n",
            "Total params: 25,450\n",
            "Trainable params: 25,450\n",
            "Non-trainable params: 0\n",
            "_________________________________________________________________\n"
          ],
          "name": "stdout"
        }
      ]
    },
    {
      "cell_type": "code",
      "metadata": {
        "id": "Ll2FyYx41AUB",
        "colab_type": "code",
        "outputId": "14bc52ad-5646-4523-d74b-9211901f074e",
        "colab": {
          "base_uri": "https://localhost:8080/",
          "height": 732
        }
      },
      "source": [
        "optimizer = RMSprop(lr=0.001, rho=0.9, epsilon=1e-08, decay=0.0)\n",
        "# optimizer = Adam(lr=0.01)\n",
        "model.compile(optimizer = optimizer , loss = \"categorical_crossentropy\", metrics=[\"accuracy\"])\n",
        "history = model.fit(x_train, y_train, batch_size=86,\n",
        "                              epochs = 15, validation_data = (x_test,y_test),\n",
        "                              verbose = 2)"
      ],
      "execution_count": 9,
      "outputs": [
        {
          "output_type": "stream",
          "text": [
            "W0809 08:47:05.594139 140133898971008 deprecation_wrapper.py:119] From /usr/local/lib/python3.6/dist-packages/keras/optimizers.py:790: The name tf.train.Optimizer is deprecated. Please use tf.compat.v1.train.Optimizer instead.\n",
            "\n",
            "W0809 08:47:05.602207 140133898971008 deprecation_wrapper.py:119] From /usr/local/lib/python3.6/dist-packages/keras/backend/tensorflow_backend.py:3295: The name tf.log is deprecated. Please use tf.math.log instead.\n",
            "\n",
            "W0809 08:47:05.691581 140133898971008 deprecation.py:323] From /usr/local/lib/python3.6/dist-packages/tensorflow/python/ops/math_grad.py:1250: add_dispatch_support.<locals>.wrapper (from tensorflow.python.ops.array_ops) is deprecated and will be removed in a future version.\n",
            "Instructions for updating:\n",
            "Use tf.where in 2.0, which has the same broadcast rule as np.where\n",
            "W0809 08:47:05.879409 140133898971008 deprecation_wrapper.py:119] From /usr/local/lib/python3.6/dist-packages/keras/backend/tensorflow_backend.py:986: The name tf.assign_add is deprecated. Please use tf.compat.v1.assign_add instead.\n",
            "\n"
          ],
          "name": "stderr"
        },
        {
          "output_type": "stream",
          "text": [
            "Train on 60000 samples, validate on 10000 samples\n",
            "Epoch 1/15\n",
            " - 5s - loss: 0.4933 - acc: 0.8713 - val_loss: 0.2757 - val_acc: 0.9219\n",
            "Epoch 2/15\n",
            " - 3s - loss: 0.2563 - acc: 0.9272 - val_loss: 0.2315 - val_acc: 0.9340\n",
            "Epoch 3/15\n",
            " - 3s - loss: 0.2167 - acc: 0.9389 - val_loss: 0.2069 - val_acc: 0.9388\n",
            "Epoch 4/15\n",
            " - 3s - loss: 0.1887 - acc: 0.9460 - val_loss: 0.1955 - val_acc: 0.9431\n",
            "Epoch 5/15\n",
            " - 3s - loss: 0.1668 - acc: 0.9527 - val_loss: 0.1678 - val_acc: 0.9503\n",
            "Epoch 6/15\n",
            " - 3s - loss: 0.1503 - acc: 0.9571 - val_loss: 0.1576 - val_acc: 0.9544\n",
            "Epoch 7/15\n",
            " - 3s - loss: 0.1374 - acc: 0.9610 - val_loss: 0.1506 - val_acc: 0.9571\n",
            "Epoch 8/15\n",
            " - 3s - loss: 0.1275 - acc: 0.9638 - val_loss: 0.1500 - val_acc: 0.9568\n",
            "Epoch 9/15\n",
            " - 3s - loss: 0.1199 - acc: 0.9660 - val_loss: 0.1400 - val_acc: 0.9594\n",
            "Epoch 10/15\n",
            " - 3s - loss: 0.1127 - acc: 0.9679 - val_loss: 0.1438 - val_acc: 0.9599\n",
            "Epoch 11/15\n",
            " - 3s - loss: 0.1081 - acc: 0.9696 - val_loss: 0.1362 - val_acc: 0.9624\n",
            "Epoch 12/15\n",
            " - 3s - loss: 0.1030 - acc: 0.9710 - val_loss: 0.1403 - val_acc: 0.9609\n",
            "Epoch 13/15\n",
            " - 3s - loss: 0.0987 - acc: 0.9723 - val_loss: 0.1312 - val_acc: 0.9641\n",
            "Epoch 14/15\n",
            " - 3s - loss: 0.0945 - acc: 0.9737 - val_loss: 0.1372 - val_acc: 0.9616\n",
            "Epoch 15/15\n",
            " - 3s - loss: 0.0909 - acc: 0.9749 - val_loss: 0.1311 - val_acc: 0.9634\n"
          ],
          "name": "stdout"
        }
      ]
    },
    {
      "cell_type": "code",
      "metadata": {
        "id": "WXUvoMb5O-_z",
        "colab_type": "code",
        "colab": {}
      },
      "source": [
        "model.save(\"mnist_triggered.h5\")"
      ],
      "execution_count": 0,
      "outputs": []
    },
    {
      "cell_type": "code",
      "metadata": {
        "id": "qz_jL-7aShNK",
        "colab_type": "code",
        "colab": {}
      },
      "source": [
        ""
      ],
      "execution_count": 0,
      "outputs": []
    }
  ]
}